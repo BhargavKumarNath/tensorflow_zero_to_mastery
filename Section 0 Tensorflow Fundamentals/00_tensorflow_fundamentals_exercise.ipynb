{
 "cells": [
  {
   "cell_type": "code",
   "execution_count": 1,
   "metadata": {},
   "outputs": [],
   "source": [
    "import tensorflow as tf"
   ]
  },
  {
   "cell_type": "markdown",
   "metadata": {},
   "source": [
    "1. Create a vector, scalar, matrix and tensor with values of your choosing using tf.constant()"
   ]
  },
  {
   "cell_type": "code",
   "execution_count": 9,
   "metadata": {},
   "outputs": [
    {
     "name": "stdout",
     "output_type": "stream",
     "text": [
      "tf.Tensor([6], shape=(1,), dtype=int32)\n",
      "tf.Tensor([6 9], shape=(2,), dtype=int32)\n",
      "tf.Tensor(\n",
      "[[ 2  3  1]\n",
      " [ 6  8 11]], shape=(2, 3), dtype=int32)\n"
     ]
    }
   ],
   "source": [
    "Scalar = tf.constant([6])\n",
    "print(Scalar)\n",
    "\n",
    "Vector = tf.constant([6, 9])\n",
    "print(Vector)\n",
    "\n",
    "Tensor = tf.constant([[2,3,1],\n",
    "                     [6,8,11]])\n",
    "print(Tensor)"
   ]
  },
  {
   "cell_type": "markdown",
   "metadata": {},
   "source": [
    "2. Find the shape, rank and size of the tensors you created in 1.\n"
   ]
  },
  {
   "cell_type": "code",
   "execution_count": 14,
   "metadata": {},
   "outputs": [
    {
     "name": "stdout",
     "output_type": "stream",
     "text": [
      "(2, 3)\n",
      "tf.Tensor(2, shape=(), dtype=int32)\n",
      "tf.Tensor(6, shape=(), dtype=int32)\n"
     ]
    }
   ],
   "source": [
    "print(Tensor.shape)\n",
    "print(tf.rank(Tensor))\n",
    "print(tf.size(Tensor))"
   ]
  },
  {
   "cell_type": "markdown",
   "metadata": {},
   "source": [
    "3. Create two tensors containing random values between 0 and 1 with shape [5, 300]"
   ]
  },
  {
   "cell_type": "code",
   "execution_count": 21,
   "metadata": {},
   "outputs": [
    {
     "name": "stdout",
     "output_type": "stream",
     "text": [
      "tf.Tensor(\n",
      "[[0.98282814 0.48366404 0.4255004  ... 0.77844286 0.18097389 0.01318359]\n",
      " [0.40004313 0.7983149  0.5930133  ... 0.71320164 0.66150475 0.66573   ]\n",
      " [0.54890347 0.9911114  0.30962086 ... 0.26520395 0.96542585 0.09316742]\n",
      " [0.22418082 0.19316506 0.4629383  ... 0.7898017  0.57257223 0.8682287 ]\n",
      " [0.6752553  0.6397582  0.0131532  ... 0.7859386  0.9868463  0.53480446]], shape=(5, 300), dtype=float32) \n",
      "\n",
      "tf.Tensor(\n",
      "[[0.12114942 0.5130514  0.626397   ... 0.05785298 0.59684646 0.5284895 ]\n",
      " [0.07670867 0.30844223 0.09478569 ... 0.15125275 0.31358528 0.7472644 ]\n",
      " [0.19608712 0.44618022 0.12489867 ... 0.336017   0.51908445 0.26229775]\n",
      " [0.4050635  0.39610016 0.02780294 ... 0.40166712 0.5650922  0.62358034]\n",
      " [0.7761489  0.22450113 0.59483016 ... 0.5033041  0.30096114 0.74274564]], shape=(5, 300), dtype=float32)\n"
     ]
    }
   ],
   "source": [
    "tensor1 = tf.random.uniform(shape=[5, 300], minval=0, maxval=1)\n",
    "print(tensor1, \"\\n\")\n",
    "\n",
    "tensor2 = tf.random.uniform(shape=[5, 300], minval=0, maxval=1)\n",
    "print(tensor2)"
   ]
  },
  {
   "cell_type": "markdown",
   "metadata": {},
   "source": [
    "4. Multiply the two tensors you created in 3 using matrix multiplication.\n"
   ]
  },
  {
   "cell_type": "code",
   "execution_count": 22,
   "metadata": {},
   "outputs": [
    {
     "data": {
      "text/plain": [
       "<tf.Tensor: shape=(5, 5), dtype=float32, numpy=\n",
       "array([[67.996216, 72.29039 , 70.0408  , 78.776566, 74.27845 ],\n",
       "       [68.932205, 67.911125, 66.19202 , 73.86763 , 72.70264 ],\n",
       "       [75.368546, 76.299126, 71.6873  , 83.935974, 80.64215 ],\n",
       "       [70.1219  , 70.58983 , 69.68103 , 79.3739  , 76.150696],\n",
       "       [68.195366, 70.41446 , 67.80717 , 75.09886 , 73.66534 ]],\n",
       "      dtype=float32)>"
      ]
     },
     "execution_count": 22,
     "metadata": {},
     "output_type": "execute_result"
    }
   ],
   "source": [
    "tf.matmul(tensor1, tf.transpose(tensor2))"
   ]
  },
  {
   "cell_type": "markdown",
   "metadata": {},
   "source": [
    "5. Multiply the two tensors you created in 3 using dot product.\n"
   ]
  },
  {
   "cell_type": "code",
   "execution_count": 24,
   "metadata": {},
   "outputs": [
    {
     "data": {
      "text/plain": [
       "<tf.Tensor: shape=(5, 5), dtype=float32, numpy=\n",
       "array([[67.996216, 72.29039 , 70.0408  , 78.776566, 74.27845 ],\n",
       "       [68.932205, 67.911125, 66.19202 , 73.86763 , 72.70264 ],\n",
       "       [75.368546, 76.299126, 71.6873  , 83.935974, 80.64215 ],\n",
       "       [70.1219  , 70.58983 , 69.68103 , 79.3739  , 76.150696],\n",
       "       [68.195366, 70.41446 , 67.80717 , 75.09886 , 73.66534 ]],\n",
       "      dtype=float32)>"
      ]
     },
     "execution_count": 24,
     "metadata": {},
     "output_type": "execute_result"
    }
   ],
   "source": [
    "tf.tensordot(tensor1, tf.transpose(tensor2), axes=1)"
   ]
  },
  {
   "cell_type": "markdown",
   "metadata": {},
   "source": [
    "6. Create a tensor with random values between 0 and 1 with shape [224, 224, 3].\n"
   ]
  },
  {
   "cell_type": "code",
   "execution_count": 25,
   "metadata": {},
   "outputs": [
    {
     "data": {
      "text/plain": [
       "<tf.Tensor: shape=(224, 224, 3), dtype=float32, numpy=\n",
       "array([[[0.5332352 , 0.22339427, 0.8115331 ],\n",
       "        [0.62276936, 0.77960443, 0.95989835],\n",
       "        [0.9323398 , 0.19727194, 0.40570462],\n",
       "        ...,\n",
       "        [0.9856607 , 0.63980305, 0.5606215 ],\n",
       "        [0.2514435 , 0.02031493, 0.37141192],\n",
       "        [0.16835153, 0.3351475 , 0.90194285]],\n",
       "\n",
       "       [[0.27834105, 0.53338945, 0.32615876],\n",
       "        [0.7569313 , 0.9964287 , 0.6743741 ],\n",
       "        [0.35068655, 0.04260409, 0.60139394],\n",
       "        ...,\n",
       "        [0.66536367, 0.20765471, 0.7695987 ],\n",
       "        [0.69921803, 0.19102895, 0.78597796],\n",
       "        [0.08460498, 0.9201888 , 0.8487327 ]],\n",
       "\n",
       "       [[0.15580916, 0.6898861 , 0.2937007 ],\n",
       "        [0.23140275, 0.09369922, 0.6111605 ],\n",
       "        [0.85097003, 0.70751894, 0.4381703 ],\n",
       "        ...,\n",
       "        [0.18239057, 0.05327666, 0.3428619 ],\n",
       "        [0.50860035, 0.7567121 , 0.24162114],\n",
       "        [0.99426484, 0.5678729 , 0.29078043]],\n",
       "\n",
       "       ...,\n",
       "\n",
       "       [[0.05065584, 0.67348444, 0.02117562],\n",
       "        [0.1874063 , 0.22281444, 0.42561412],\n",
       "        [0.41127253, 0.34653163, 0.14191854],\n",
       "        ...,\n",
       "        [0.78386927, 0.2951864 , 0.84372354],\n",
       "        [0.8944495 , 0.4971099 , 0.955582  ],\n",
       "        [0.55130935, 0.00132942, 0.01639664]],\n",
       "\n",
       "       [[0.38495946, 0.262967  , 0.11897671],\n",
       "        [0.19851136, 0.48437405, 0.9628724 ],\n",
       "        [0.34898674, 0.32778382, 0.98335457],\n",
       "        ...,\n",
       "        [0.8313811 , 0.737893  , 0.5817343 ],\n",
       "        [0.05374372, 0.5380508 , 0.4002396 ],\n",
       "        [0.19600844, 0.6000936 , 0.95280623]],\n",
       "\n",
       "       [[0.28861213, 0.42750442, 0.25599396],\n",
       "        [0.4301405 , 0.9691491 , 0.8248985 ],\n",
       "        [0.4535668 , 0.92661655, 0.10526395],\n",
       "        ...,\n",
       "        [0.9364016 , 0.0876044 , 0.8198416 ],\n",
       "        [0.880792  , 0.79095435, 0.34715462],\n",
       "        [0.0753547 , 0.60725033, 0.24982667]]], dtype=float32)>"
      ]
     },
     "execution_count": 25,
     "metadata": {},
     "output_type": "execute_result"
    }
   ],
   "source": [
    "tensor = tf.random.uniform(shape=[224, 224, 3], minval=0, maxval=1)\n",
    "tensor"
   ]
  },
  {
   "cell_type": "markdown",
   "metadata": {},
   "source": [
    "7. Find the min and max values of the tensor you created in 6 along the first axis.\n"
   ]
  },
  {
   "cell_type": "code",
   "execution_count": 30,
   "metadata": {},
   "outputs": [
    {
     "data": {
      "text/plain": [
       "<tf.Tensor: shape=(), dtype=float32, numpy=0.99999964>"
      ]
     },
     "execution_count": 30,
     "metadata": {},
     "output_type": "execute_result"
    }
   ],
   "source": [
    "tf.reduce_max(tensor)"
   ]
  },
  {
   "cell_type": "code",
   "execution_count": 31,
   "metadata": {},
   "outputs": [
    {
     "data": {
      "text/plain": [
       "<tf.Tensor: shape=(), dtype=float32, numpy=8.46386e-06>"
      ]
     },
     "execution_count": 31,
     "metadata": {},
     "output_type": "execute_result"
    }
   ],
   "source": [
    "tf.reduce_min(tensor)"
   ]
  },
  {
   "cell_type": "markdown",
   "metadata": {},
   "source": [
    "8. Created a tensor with random values of shape [1, 224, 224, 3] then squeeze it to change the shape to [224, 224, 3]."
   ]
  },
  {
   "cell_type": "code",
   "execution_count": 36,
   "metadata": {},
   "outputs": [
    {
     "name": "stdout",
     "output_type": "stream",
     "text": [
      "tf.Tensor(\n",
      "[[[[0.79789436 0.45689487 0.10143828]\n",
      "   [0.97620904 0.93344605 0.30395758]\n",
      "   [0.5619936  0.8240273  0.38661337]\n",
      "   ...\n",
      "   [0.7978246  0.3320086  0.02858186]\n",
      "   [0.17832303 0.9813664  0.5090499 ]\n",
      "   [0.2166816  0.5225229  0.5751854 ]]\n",
      "\n",
      "  [[0.44782186 0.01735008 0.31195116]\n",
      "   [0.85116065 0.08604419 0.9463415 ]\n",
      "   [0.8118248  0.348639   0.8896588 ]\n",
      "   ...\n",
      "   [0.50054026 0.8395488  0.6652465 ]\n",
      "   [0.7498218  0.19712579 0.62710524]\n",
      "   [0.1532526  0.9839438  0.895007  ]]\n",
      "\n",
      "  [[0.9698578  0.11666012 0.59377456]\n",
      "   [0.23433614 0.68195724 0.8822832 ]\n",
      "   [0.162269   0.49035144 0.13090944]\n",
      "   ...\n",
      "   [0.44633365 0.80074525 0.00837314]\n",
      "   [0.64181507 0.1930021  0.83110857]\n",
      "   [0.17653906 0.70281553 0.5400003 ]]\n",
      "\n",
      "  ...\n",
      "\n",
      "  [[0.23808789 0.20121658 0.50350916]\n",
      "   [0.6904472  0.32307696 0.361341  ]\n",
      "   [0.5116615  0.67232597 0.62472415]\n",
      "   ...\n",
      "   [0.06423676 0.4620396  0.5461135 ]\n",
      "   [0.39095318 0.11754096 0.21101582]\n",
      "   [0.15720093 0.067029   0.7041198 ]]\n",
      "\n",
      "  [[0.5103861  0.7051177  0.35084343]\n",
      "   [0.2982787  0.16218221 0.88044226]\n",
      "   [0.2978418  0.80637777 0.19084132]\n",
      "   ...\n",
      "   [0.9880295  0.7274672  0.19017446]\n",
      "   [0.48189187 0.62600994 0.33690548]\n",
      "   [0.42914736 0.3079443  0.6054685 ]]\n",
      "\n",
      "  [[0.2512803  0.67651963 0.02162731]\n",
      "   [0.07674932 0.9326173  0.6263417 ]\n",
      "   [0.28396165 0.8641441  0.49810135]\n",
      "   ...\n",
      "   [0.14037263 0.23068225 0.15330064]\n",
      "   [0.88804793 0.20443535 0.35589767]\n",
      "   [0.60067236 0.26521182 0.45821893]]]], shape=(1, 224, 224, 3), dtype=float32)\n"
     ]
    }
   ],
   "source": [
    "tensor = tf.random.uniform(shape=[1,224,224,3])\n",
    "print(tensor)"
   ]
  },
  {
   "cell_type": "code",
   "execution_count": 41,
   "metadata": {},
   "outputs": [
    {
     "data": {
      "text/plain": [
       "(<tf.Tensor: shape=(224, 224, 3), dtype=float32, numpy=\n",
       " array([[[0.79789436, 0.45689487, 0.10143828],\n",
       "         [0.97620904, 0.93344605, 0.30395758],\n",
       "         [0.5619936 , 0.8240273 , 0.38661337],\n",
       "         ...,\n",
       "         [0.7978246 , 0.3320086 , 0.02858186],\n",
       "         [0.17832303, 0.9813664 , 0.5090499 ],\n",
       "         [0.2166816 , 0.5225229 , 0.5751854 ]],\n",
       " \n",
       "        [[0.44782186, 0.01735008, 0.31195116],\n",
       "         [0.85116065, 0.08604419, 0.9463415 ],\n",
       "         [0.8118248 , 0.348639  , 0.8896588 ],\n",
       "         ...,\n",
       "         [0.50054026, 0.8395488 , 0.6652465 ],\n",
       "         [0.7498218 , 0.19712579, 0.62710524],\n",
       "         [0.1532526 , 0.9839438 , 0.895007  ]],\n",
       " \n",
       "        [[0.9698578 , 0.11666012, 0.59377456],\n",
       "         [0.23433614, 0.68195724, 0.8822832 ],\n",
       "         [0.162269  , 0.49035144, 0.13090944],\n",
       "         ...,\n",
       "         [0.44633365, 0.80074525, 0.00837314],\n",
       "         [0.64181507, 0.1930021 , 0.83110857],\n",
       "         [0.17653906, 0.70281553, 0.5400003 ]],\n",
       " \n",
       "        ...,\n",
       " \n",
       "        [[0.23808789, 0.20121658, 0.50350916],\n",
       "         [0.6904472 , 0.32307696, 0.361341  ],\n",
       "         [0.5116615 , 0.67232597, 0.62472415],\n",
       "         ...,\n",
       "         [0.06423676, 0.4620396 , 0.5461135 ],\n",
       "         [0.39095318, 0.11754096, 0.21101582],\n",
       "         [0.15720093, 0.067029  , 0.7041198 ]],\n",
       " \n",
       "        [[0.5103861 , 0.7051177 , 0.35084343],\n",
       "         [0.2982787 , 0.16218221, 0.88044226],\n",
       "         [0.2978418 , 0.80637777, 0.19084132],\n",
       "         ...,\n",
       "         [0.9880295 , 0.7274672 , 0.19017446],\n",
       "         [0.48189187, 0.62600994, 0.33690548],\n",
       "         [0.42914736, 0.3079443 , 0.6054685 ]],\n",
       " \n",
       "        [[0.2512803 , 0.67651963, 0.02162731],\n",
       "         [0.07674932, 0.9326173 , 0.6263417 ],\n",
       "         [0.28396165, 0.8641441 , 0.49810135],\n",
       "         ...,\n",
       "         [0.14037263, 0.23068225, 0.15330064],\n",
       "         [0.88804793, 0.20443535, 0.35589767],\n",
       "         [0.60067236, 0.26521182, 0.45821893]]], dtype=float32)>,\n",
       " TensorShape([224, 224, 3]))"
      ]
     },
     "execution_count": 41,
     "metadata": {},
     "output_type": "execute_result"
    }
   ],
   "source": [
    "tensor_squeeze = tf.squeeze(tensor)\n",
    "tensor_squeeze, tensor_squeeze.shape"
   ]
  },
  {
   "cell_type": "markdown",
   "metadata": {},
   "source": [
    "9. Create a tensor with shape [10] using your own choice of values, then find the index which has the maximum value."
   ]
  },
  {
   "cell_type": "code",
   "execution_count": 45,
   "metadata": {},
   "outputs": [
    {
     "data": {
      "text/plain": [
       "<tf.Tensor: shape=(), dtype=int64, numpy=8>"
      ]
     },
     "execution_count": 45,
     "metadata": {},
     "output_type": "execute_result"
    }
   ],
   "source": [
    "tensor = tf.constant([4,2,1,3,6,7,22,100, 123, -4])\n",
    "\n",
    "tf.argmax(tensor)"
   ]
  },
  {
   "cell_type": "markdown",
   "metadata": {},
   "source": [
    "10. One-hot encode the tensor you created in 9.\n"
   ]
  },
  {
   "cell_type": "code",
   "execution_count": 46,
   "metadata": {},
   "outputs": [
    {
     "data": {
      "text/plain": [
       "<tf.Tensor: shape=(10, 10), dtype=float32, numpy=\n",
       "array([[0., 0., 0., 0., 1., 0., 0., 0., 0., 0.],\n",
       "       [0., 0., 1., 0., 0., 0., 0., 0., 0., 0.],\n",
       "       [0., 1., 0., 0., 0., 0., 0., 0., 0., 0.],\n",
       "       [0., 0., 0., 1., 0., 0., 0., 0., 0., 0.],\n",
       "       [0., 0., 0., 0., 0., 0., 1., 0., 0., 0.],\n",
       "       [0., 0., 0., 0., 0., 0., 0., 1., 0., 0.],\n",
       "       [0., 0., 0., 0., 0., 0., 0., 0., 0., 0.],\n",
       "       [0., 0., 0., 0., 0., 0., 0., 0., 0., 0.],\n",
       "       [0., 0., 0., 0., 0., 0., 0., 0., 0., 0.],\n",
       "       [0., 0., 0., 0., 0., 0., 0., 0., 0., 0.]], dtype=float32)>"
      ]
     },
     "execution_count": 46,
     "metadata": {},
     "output_type": "execute_result"
    }
   ],
   "source": [
    "tf.one_hot(tensor, depth=10)"
   ]
  },
  {
   "cell_type": "markdown",
   "metadata": {},
   "source": [
    "Try to create a series of tensor functions to calculate your most recent grocery bill (it's okay if you don't use the names of the items, just the price in numerical form).\n",
    "* How would you calculate your grocery bill for the month and for the year using tensors?"
   ]
  },
  {
   "cell_type": "code",
   "execution_count": 47,
   "metadata": {},
   "outputs": [],
   "source": [
    "prices = tf.constant([120, 300, 100, 450, 342, 200, 12, 123, 22])\n",
    "quantity = tf.constant([1, 4, 3, 1, 2, 6, 4, 1, 2])"
   ]
  },
  {
   "cell_type": "code",
   "execution_count": 50,
   "metadata": {},
   "outputs": [
    {
     "data": {
      "text/plain": [
       "<tf.Tensor: shape=(), dtype=int32, numpy=1669>"
      ]
     },
     "execution_count": 50,
     "metadata": {},
     "output_type": "execute_result"
    }
   ],
   "source": [
    "bill = tf.reduce_sum(prices)\n",
    "bill\n",
    "\n",
    "# We can calculate bill for month and year by making seperate tensors for month and year"
   ]
  },
  {
   "cell_type": "markdown",
   "metadata": {},
   "source": [
    "### Tensorflow quick start for beginners"
   ]
  },
  {
   "cell_type": "code",
   "execution_count": 51,
   "metadata": {},
   "outputs": [],
   "source": [
    "import tensorflow as tf"
   ]
  },
  {
   "cell_type": "code",
   "execution_count": 52,
   "metadata": {},
   "outputs": [],
   "source": [
    "mnist = tf.keras.datasets.mnist\n",
    "\n",
    "(x_train, y_train), (x_test, y_test) = mnist.load_data()\n",
    "x_train, x_test = x_train/255.0, x_test/255.0"
   ]
  },
  {
   "cell_type": "code",
   "execution_count": 56,
   "metadata": {},
   "outputs": [],
   "source": [
    "model = tf.keras.models.Sequential([\n",
    "  tf.keras.layers.Flatten(input_shape=(28, 28)),\n",
    "  tf.keras.layers.Dense(128, activation='relu'),\n",
    "  tf.keras.layers.Dropout(0.2),\n",
    "  tf.keras.layers.Dense(10)\n",
    "])"
   ]
  },
  {
   "cell_type": "code",
   "execution_count": 58,
   "metadata": {},
   "outputs": [
    {
     "data": {
      "text/plain": [
       "array([[ 0.01786301, -0.00839287,  0.33456674, -0.22109737, -0.0782677 ,\n",
       "         0.2176723 , -0.02206556, -0.16001953,  0.2603299 ,  0.06910446]],\n",
       "      dtype=float32)"
      ]
     },
     "execution_count": 58,
     "metadata": {},
     "output_type": "execute_result"
    }
   ],
   "source": [
    "predictions = model(x_train[:1]).numpy()\n",
    "predictions"
   ]
  },
  {
   "cell_type": "code",
   "execution_count": 59,
   "metadata": {},
   "outputs": [
    {
     "data": {
      "text/plain": [
       "array([[0.09626021, 0.0937657 , 0.13212636, 0.07579971, 0.08743751,\n",
       "        0.11755006, 0.09249239, 0.08057371, 0.12267295, 0.10132129]],\n",
       "      dtype=float32)"
      ]
     },
     "execution_count": 59,
     "metadata": {},
     "output_type": "execute_result"
    }
   ],
   "source": [
    "tf.nn.softmax(predictions).numpy()"
   ]
  },
  {
   "cell_type": "code",
   "execution_count": 60,
   "metadata": {},
   "outputs": [],
   "source": [
    "loss_fn = tf.keras.losses.SparseCategoricalCrossentropy(from_logits=True)"
   ]
  },
  {
   "cell_type": "code",
   "execution_count": 61,
   "metadata": {},
   "outputs": [
    {
     "data": {
      "text/plain": [
       "2.140891"
      ]
     },
     "execution_count": 61,
     "metadata": {},
     "output_type": "execute_result"
    }
   ],
   "source": [
    "loss_fn(y_train[:1], predictions).numpy()"
   ]
  },
  {
   "cell_type": "code",
   "execution_count": 62,
   "metadata": {},
   "outputs": [],
   "source": [
    "model.compile(optimizer='adam',\n",
    "              loss=loss_fn,\n",
    "              metrics=['accuracy'])"
   ]
  },
  {
   "cell_type": "code",
   "execution_count": 63,
   "metadata": {},
   "outputs": [
    {
     "name": "stdout",
     "output_type": "stream",
     "text": [
      "Epoch 1/10\n",
      "\u001b[1m1875/1875\u001b[0m \u001b[32m━━━━━━━━━━━━━━━━━━━━\u001b[0m\u001b[37m\u001b[0m \u001b[1m6s\u001b[0m 2ms/step - accuracy: 0.8616 - loss: 0.4803\n",
      "Epoch 2/10\n",
      "\u001b[1m1875/1875\u001b[0m \u001b[32m━━━━━━━━━━━━━━━━━━━━\u001b[0m\u001b[37m\u001b[0m \u001b[1m4s\u001b[0m 2ms/step - accuracy: 0.9561 - loss: 0.1480\n",
      "Epoch 3/10\n",
      "\u001b[1m1875/1875\u001b[0m \u001b[32m━━━━━━━━━━━━━━━━━━━━\u001b[0m\u001b[37m\u001b[0m \u001b[1m4s\u001b[0m 2ms/step - accuracy: 0.9672 - loss: 0.1078\n",
      "Epoch 4/10\n",
      "\u001b[1m1875/1875\u001b[0m \u001b[32m━━━━━━━━━━━━━━━━━━━━\u001b[0m\u001b[37m\u001b[0m \u001b[1m4s\u001b[0m 2ms/step - accuracy: 0.9723 - loss: 0.0876\n",
      "Epoch 5/10\n",
      "\u001b[1m1875/1875\u001b[0m \u001b[32m━━━━━━━━━━━━━━━━━━━━\u001b[0m\u001b[37m\u001b[0m \u001b[1m4s\u001b[0m 2ms/step - accuracy: 0.9761 - loss: 0.0743\n",
      "Epoch 6/10\n",
      "\u001b[1m1875/1875\u001b[0m \u001b[32m━━━━━━━━━━━━━━━━━━━━\u001b[0m\u001b[37m\u001b[0m \u001b[1m5s\u001b[0m 3ms/step - accuracy: 0.9807 - loss: 0.0607\n",
      "Epoch 7/10\n",
      "\u001b[1m1875/1875\u001b[0m \u001b[32m━━━━━━━━━━━━━━━━━━━━\u001b[0m\u001b[37m\u001b[0m \u001b[1m5s\u001b[0m 3ms/step - accuracy: 0.9825 - loss: 0.0549\n",
      "Epoch 8/10\n",
      "\u001b[1m1875/1875\u001b[0m \u001b[32m━━━━━━━━━━━━━━━━━━━━\u001b[0m\u001b[37m\u001b[0m \u001b[1m5s\u001b[0m 3ms/step - accuracy: 0.9837 - loss: 0.0505\n",
      "Epoch 9/10\n",
      "\u001b[1m1875/1875\u001b[0m \u001b[32m━━━━━━━━━━━━━━━━━━━━\u001b[0m\u001b[37m\u001b[0m \u001b[1m4s\u001b[0m 2ms/step - accuracy: 0.9855 - loss: 0.0449\n",
      "Epoch 10/10\n",
      "\u001b[1m1875/1875\u001b[0m \u001b[32m━━━━━━━━━━━━━━━━━━━━\u001b[0m\u001b[37m\u001b[0m \u001b[1m4s\u001b[0m 2ms/step - accuracy: 0.9861 - loss: 0.0415\n"
     ]
    },
    {
     "data": {
      "text/plain": [
       "<keras.src.callbacks.history.History at 0x24e54270a10>"
      ]
     },
     "execution_count": 63,
     "metadata": {},
     "output_type": "execute_result"
    }
   ],
   "source": [
    "model.fit(x_train, y_train, epochs=10)"
   ]
  },
  {
   "cell_type": "code",
   "execution_count": 64,
   "metadata": {},
   "outputs": [
    {
     "name": "stdout",
     "output_type": "stream",
     "text": [
      "313/313 - 1s - 2ms/step - accuracy: 0.9802 - loss: 0.0688\n"
     ]
    },
    {
     "data": {
      "text/plain": [
       "[0.06883683800697327, 0.9801999926567078]"
      ]
     },
     "execution_count": 64,
     "metadata": {},
     "output_type": "execute_result"
    }
   ],
   "source": [
    "model.evaluate(x_test, y_test, verbose=2)"
   ]
  },
  {
   "cell_type": "code",
   "execution_count": 66,
   "metadata": {},
   "outputs": [
    {
     "data": {
      "text/html": [
       "<pre style=\"white-space:pre;overflow-x:auto;line-height:normal;font-family:Menlo,'DejaVu Sans Mono',consolas,'Courier New',monospace\"><span style=\"font-weight: bold\">Model: \"sequential\"</span>\n",
       "</pre>\n"
      ],
      "text/plain": [
       "\u001b[1mModel: \"sequential\"\u001b[0m\n"
      ]
     },
     "metadata": {},
     "output_type": "display_data"
    },
    {
     "data": {
      "text/html": [
       "<pre style=\"white-space:pre;overflow-x:auto;line-height:normal;font-family:Menlo,'DejaVu Sans Mono',consolas,'Courier New',monospace\">┏━━━━━━━━━━━━━━━━━━━━━━━━━━━━━━━━━┳━━━━━━━━━━━━━━━━━━━━━━━━┳━━━━━━━━━━━━━━━┓\n",
       "┃<span style=\"font-weight: bold\"> Layer (type)                    </span>┃<span style=\"font-weight: bold\"> Output Shape           </span>┃<span style=\"font-weight: bold\">       Param # </span>┃\n",
       "┡━━━━━━━━━━━━━━━━━━━━━━━━━━━━━━━━━╇━━━━━━━━━━━━━━━━━━━━━━━━╇━━━━━━━━━━━━━━━┩\n",
       "│ flatten_3 (<span style=\"color: #0087ff; text-decoration-color: #0087ff\">Flatten</span>)             │ (<span style=\"color: #00d7ff; text-decoration-color: #00d7ff\">None</span>, <span style=\"color: #00af00; text-decoration-color: #00af00\">784</span>)            │             <span style=\"color: #00af00; text-decoration-color: #00af00\">0</span> │\n",
       "├─────────────────────────────────┼────────────────────────┼───────────────┤\n",
       "│ dense_3 (<span style=\"color: #0087ff; text-decoration-color: #0087ff\">Dense</span>)                 │ (<span style=\"color: #00d7ff; text-decoration-color: #00d7ff\">None</span>, <span style=\"color: #00af00; text-decoration-color: #00af00\">128</span>)            │       <span style=\"color: #00af00; text-decoration-color: #00af00\">100,480</span> │\n",
       "├─────────────────────────────────┼────────────────────────┼───────────────┤\n",
       "│ dropout_2 (<span style=\"color: #0087ff; text-decoration-color: #0087ff\">Dropout</span>)             │ (<span style=\"color: #00d7ff; text-decoration-color: #00d7ff\">None</span>, <span style=\"color: #00af00; text-decoration-color: #00af00\">128</span>)            │             <span style=\"color: #00af00; text-decoration-color: #00af00\">0</span> │\n",
       "├─────────────────────────────────┼────────────────────────┼───────────────┤\n",
       "│ dense_4 (<span style=\"color: #0087ff; text-decoration-color: #0087ff\">Dense</span>)                 │ (<span style=\"color: #00d7ff; text-decoration-color: #00d7ff\">None</span>, <span style=\"color: #00af00; text-decoration-color: #00af00\">10</span>)             │         <span style=\"color: #00af00; text-decoration-color: #00af00\">1,290</span> │\n",
       "└─────────────────────────────────┴────────────────────────┴───────────────┘\n",
       "</pre>\n"
      ],
      "text/plain": [
       "┏━━━━━━━━━━━━━━━━━━━━━━━━━━━━━━━━━┳━━━━━━━━━━━━━━━━━━━━━━━━┳━━━━━━━━━━━━━━━┓\n",
       "┃\u001b[1m \u001b[0m\u001b[1mLayer (type)                   \u001b[0m\u001b[1m \u001b[0m┃\u001b[1m \u001b[0m\u001b[1mOutput Shape          \u001b[0m\u001b[1m \u001b[0m┃\u001b[1m \u001b[0m\u001b[1m      Param #\u001b[0m\u001b[1m \u001b[0m┃\n",
       "┡━━━━━━━━━━━━━━━━━━━━━━━━━━━━━━━━━╇━━━━━━━━━━━━━━━━━━━━━━━━╇━━━━━━━━━━━━━━━┩\n",
       "│ flatten_3 (\u001b[38;5;33mFlatten\u001b[0m)             │ (\u001b[38;5;45mNone\u001b[0m, \u001b[38;5;34m784\u001b[0m)            │             \u001b[38;5;34m0\u001b[0m │\n",
       "├─────────────────────────────────┼────────────────────────┼───────────────┤\n",
       "│ dense_3 (\u001b[38;5;33mDense\u001b[0m)                 │ (\u001b[38;5;45mNone\u001b[0m, \u001b[38;5;34m128\u001b[0m)            │       \u001b[38;5;34m100,480\u001b[0m │\n",
       "├─────────────────────────────────┼────────────────────────┼───────────────┤\n",
       "│ dropout_2 (\u001b[38;5;33mDropout\u001b[0m)             │ (\u001b[38;5;45mNone\u001b[0m, \u001b[38;5;34m128\u001b[0m)            │             \u001b[38;5;34m0\u001b[0m │\n",
       "├─────────────────────────────────┼────────────────────────┼───────────────┤\n",
       "│ dense_4 (\u001b[38;5;33mDense\u001b[0m)                 │ (\u001b[38;5;45mNone\u001b[0m, \u001b[38;5;34m10\u001b[0m)             │         \u001b[38;5;34m1,290\u001b[0m │\n",
       "└─────────────────────────────────┴────────────────────────┴───────────────┘\n"
      ]
     },
     "metadata": {},
     "output_type": "display_data"
    },
    {
     "data": {
      "text/html": [
       "<pre style=\"white-space:pre;overflow-x:auto;line-height:normal;font-family:Menlo,'DejaVu Sans Mono',consolas,'Courier New',monospace\"><span style=\"font-weight: bold\"> Total params: </span><span style=\"color: #00af00; text-decoration-color: #00af00\">305,312</span> (1.16 MB)\n",
       "</pre>\n"
      ],
      "text/plain": [
       "\u001b[1m Total params: \u001b[0m\u001b[38;5;34m305,312\u001b[0m (1.16 MB)\n"
      ]
     },
     "metadata": {},
     "output_type": "display_data"
    },
    {
     "data": {
      "text/html": [
       "<pre style=\"white-space:pre;overflow-x:auto;line-height:normal;font-family:Menlo,'DejaVu Sans Mono',consolas,'Courier New',monospace\"><span style=\"font-weight: bold\"> Trainable params: </span><span style=\"color: #00af00; text-decoration-color: #00af00\">101,770</span> (397.54 KB)\n",
       "</pre>\n"
      ],
      "text/plain": [
       "\u001b[1m Trainable params: \u001b[0m\u001b[38;5;34m101,770\u001b[0m (397.54 KB)\n"
      ]
     },
     "metadata": {},
     "output_type": "display_data"
    },
    {
     "data": {
      "text/html": [
       "<pre style=\"white-space:pre;overflow-x:auto;line-height:normal;font-family:Menlo,'DejaVu Sans Mono',consolas,'Courier New',monospace\"><span style=\"font-weight: bold\"> Non-trainable params: </span><span style=\"color: #00af00; text-decoration-color: #00af00\">0</span> (0.00 B)\n",
       "</pre>\n"
      ],
      "text/plain": [
       "\u001b[1m Non-trainable params: \u001b[0m\u001b[38;5;34m0\u001b[0m (0.00 B)\n"
      ]
     },
     "metadata": {},
     "output_type": "display_data"
    },
    {
     "data": {
      "text/html": [
       "<pre style=\"white-space:pre;overflow-x:auto;line-height:normal;font-family:Menlo,'DejaVu Sans Mono',consolas,'Courier New',monospace\"><span style=\"font-weight: bold\"> Optimizer params: </span><span style=\"color: #00af00; text-decoration-color: #00af00\">203,542</span> (795.09 KB)\n",
       "</pre>\n"
      ],
      "text/plain": [
       "\u001b[1m Optimizer params: \u001b[0m\u001b[38;5;34m203,542\u001b[0m (795.09 KB)\n"
      ]
     },
     "metadata": {},
     "output_type": "display_data"
    }
   ],
   "source": [
    "model.summary()"
   ]
  },
  {
   "cell_type": "code",
   "execution_count": null,
   "metadata": {},
   "outputs": [],
   "source": []
  }
 ],
 "metadata": {
  "kernelspec": {
   "display_name": "base",
   "language": "python",
   "name": "python3"
  },
  "language_info": {
   "codemirror_mode": {
    "name": "ipython",
    "version": 3
   },
   "file_extension": ".py",
   "mimetype": "text/x-python",
   "name": "python",
   "nbconvert_exporter": "python",
   "pygments_lexer": "ipython3",
   "version": "3.11.5"
  }
 },
 "nbformat": 4,
 "nbformat_minor": 2
}
